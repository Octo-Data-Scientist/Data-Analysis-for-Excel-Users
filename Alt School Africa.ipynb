{
 "cells": [
  {
   "cell_type": "markdown",
   "id": "4ae962f1-a00c-4a43-a9e8-39c3bf2c0c6e",
   "metadata": {},
   "source": [
    "# Numbers"
   ]
  },
  {
   "cell_type": "code",
   "execution_count": 1,
   "id": "9f2e9892-1d05-4a6c-9b87-5178d9710f73",
   "metadata": {
    "tags": []
   },
   "outputs": [],
   "source": [
    "# Numbers: Integer\n",
    "var_1 =  35"
   ]
  },
  {
   "cell_type": "code",
   "execution_count": 2,
   "id": "9656a27d-50ea-4b8c-8e50-ba4445a48fbd",
   "metadata": {
    "tags": []
   },
   "outputs": [
    {
     "data": {
      "text/plain": [
       "int"
      ]
     },
     "execution_count": 2,
     "metadata": {},
     "output_type": "execute_result"
    }
   ],
   "source": [
    "type(var_1)"
   ]
  },
  {
   "cell_type": "code",
   "execution_count": 3,
   "id": "3e605393-136f-4c33-ab84-03facf82c679",
   "metadata": {
    "tags": []
   },
   "outputs": [],
   "source": [
    "var_2 = 45.57"
   ]
  },
  {
   "cell_type": "code",
   "execution_count": 4,
   "id": "dd13ecff-b4df-428a-a3fa-b9486ef9543c",
   "metadata": {
    "tags": []
   },
   "outputs": [
    {
     "data": {
      "text/plain": [
       "float"
      ]
     },
     "execution_count": 4,
     "metadata": {},
     "output_type": "execute_result"
    }
   ],
   "source": [
    "type(var_2)"
   ]
  },
  {
   "cell_type": "code",
   "execution_count": 5,
   "id": "e146731f-eb6e-4529-82f8-7a7a4b2d30a9",
   "metadata": {
    "tags": []
   },
   "outputs": [
    {
     "data": {
      "text/plain": [
       "2076.6249000000003"
      ]
     },
     "execution_count": 5,
     "metadata": {},
     "output_type": "execute_result"
    }
   ],
   "source": [
    "var_2 ** 2"
   ]
  },
  {
   "cell_type": "markdown",
   "id": "95614438-40eb-45d8-b8e6-0ad8d190a0d4",
   "metadata": {},
   "source": [
    "# List"
   ]
  },
  {
   "cell_type": "code",
   "execution_count": 6,
   "id": "53fa93ff-fe3a-4ba8-ac75-f25e9d9e811d",
   "metadata": {
    "tags": []
   },
   "outputs": [],
   "source": [
    "# create a list\n",
    "lst = [\"Sam\", \"Yusuf\", \"Sultan\", \"Tolu\", \"Jerry\", \"Ada\", \"Mudia\"]"
   ]
  },
  {
   "cell_type": "code",
   "execution_count": 7,
   "id": "c9b72f7b-2201-40b8-812f-5c757d8db04c",
   "metadata": {
    "tags": []
   },
   "outputs": [
    {
     "name": "stdout",
     "output_type": "stream",
     "text": [
      "['Sam', 'Yusuf', 'Sultan', 'Tolu', 'Jerry', 'Ada', 'Mudia']\n"
     ]
    }
   ],
   "source": [
    "print(lst)"
   ]
  },
  {
   "cell_type": "code",
   "execution_count": 8,
   "id": "47e2fa2a-735c-4cd0-a0e2-0501031b7c9d",
   "metadata": {
    "tags": []
   },
   "outputs": [],
   "source": [
    "# using the sort() method\n",
    "# copy the list\n",
    "lst_copy = lst.copy()"
   ]
  },
  {
   "cell_type": "code",
   "execution_count": 9,
   "id": "cebe9079-d1e8-4e00-8536-fd72de7bd11d",
   "metadata": {
    "tags": []
   },
   "outputs": [
    {
     "data": {
      "text/plain": [
       "['Sam', 'Yusuf', 'Sultan', 'Tolu', 'Jerry', 'Ada', 'Mudia']"
      ]
     },
     "execution_count": 9,
     "metadata": {},
     "output_type": "execute_result"
    }
   ],
   "source": [
    "lst_copy"
   ]
  },
  {
   "cell_type": "code",
   "execution_count": 17,
   "id": "5313a7c5-1c60-4ad6-b45e-ca82082f450f",
   "metadata": {
    "tags": []
   },
   "outputs": [],
   "source": [
    "lst_copy.sort()"
   ]
  },
  {
   "cell_type": "code",
   "execution_count": 18,
   "id": "5bb92720",
   "metadata": {},
   "outputs": [
    {
     "data": {
      "text/plain": [
       "['Ada', 'Jerry', 'Mudia', 'Sam', 'Sultan', 'Tolu', 'Yusuf']"
      ]
     },
     "execution_count": 18,
     "metadata": {},
     "output_type": "execute_result"
    }
   ],
   "source": [
    "lst_copy"
   ]
  },
  {
   "cell_type": "code",
   "execution_count": 19,
   "id": "513a4e84-b80e-4998-b82b-d018f31d57bb",
   "metadata": {
    "tags": []
   },
   "outputs": [
    {
     "name": "stdout",
     "output_type": "stream",
     "text": [
      "['Ada', 'Jerry', 'Mudia', 'Sam', 'Sultan', 'Tolu', 'Yusuf']\n"
     ]
    }
   ],
   "source": [
    "print(lst_copy)"
   ]
  },
  {
   "cell_type": "code",
   "execution_count": 20,
   "id": "97b0456f-dd18-451b-93e7-9c1752b26c57",
   "metadata": {
    "tags": []
   },
   "outputs": [
    {
     "data": {
      "text/plain": [
       "['Ada', 'Jerry', 'Mudia', 'Sam', 'Sultan', 'Tolu', 'Yusuf']"
      ]
     },
     "execution_count": 20,
     "metadata": {},
     "output_type": "execute_result"
    }
   ],
   "source": [
    "# sort temporarily\n",
    "# using the sorted function\n",
    "# It returns a view where the original list will not be tampered with.\n",
    "\n",
    "sorted(lst)"
   ]
  },
  {
   "cell_type": "code",
   "execution_count": 21,
   "id": "654b0fac-d09e-4ce3-9756-ae77e3279e2b",
   "metadata": {
    "tags": []
   },
   "outputs": [
    {
     "data": {
      "text/plain": [
       "['Sam', 'Yusuf', 'Sultan', 'Tolu', 'Jerry', 'Ada', 'Mudia']"
      ]
     },
     "execution_count": 21,
     "metadata": {},
     "output_type": "execute_result"
    }
   ],
   "source": [
    "lst"
   ]
  },
  {
   "cell_type": "code",
   "execution_count": 22,
   "id": "8802468b-45ec-4d30-9f5b-ba9a17f8888f",
   "metadata": {
    "tags": []
   },
   "outputs": [],
   "source": [
    "# reverse order permanently\n",
    "lst_copy.sort(reverse = True)"
   ]
  },
  {
   "cell_type": "code",
   "execution_count": 23,
   "id": "56d4b228-01c8-49b3-bbca-fb813714afe0",
   "metadata": {
    "tags": []
   },
   "outputs": [
    {
     "data": {
      "text/plain": [
       "['Yusuf', 'Tolu', 'Sultan', 'Sam', 'Mudia', 'Jerry', 'Ada']"
      ]
     },
     "execution_count": 23,
     "metadata": {},
     "output_type": "execute_result"
    }
   ],
   "source": [
    "lst_copy"
   ]
  },
  {
   "cell_type": "code",
   "execution_count": 24,
   "id": "270aa32f-f3de-4e98-b893-acfba90cda30",
   "metadata": {
    "tags": []
   },
   "outputs": [
    {
     "data": {
      "text/plain": [
       "['Yusuf', 'Tolu', 'Sultan', 'Sam', 'Mudia', 'Jerry', 'Ada']"
      ]
     },
     "execution_count": 24,
     "metadata": {},
     "output_type": "execute_result"
    }
   ],
   "source": [
    "# reverse order temporarily\n",
    "sorted(lst, reverse = True)"
   ]
  },
  {
   "cell_type": "code",
   "execution_count": null,
   "id": "75d1e4b6",
   "metadata": {},
   "outputs": [],
   "source": []
  }
 ],
 "metadata": {
  "kernelspec": {
   "display_name": "Python 3 (ipykernel)",
   "language": "python",
   "name": "python3"
  },
  "language_info": {
   "codemirror_mode": {
    "name": "ipython",
    "version": 3
   },
   "file_extension": ".py",
   "mimetype": "text/x-python",
   "name": "python",
   "nbconvert_exporter": "python",
   "pygments_lexer": "ipython3",
   "version": "3.12.1"
  }
 },
 "nbformat": 4,
 "nbformat_minor": 5
}
