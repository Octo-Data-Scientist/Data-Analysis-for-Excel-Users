{
 "cells": [
  {
   "cell_type": "markdown",
   "id": "a2bcbff7-4338-470b-8f3d-a05fd8016f1f",
   "metadata": {},
   "source": [
    "# Variables and Data types"
   ]
  },
  {
   "cell_type": "code",
   "execution_count": 1,
   "id": "9608ab99-4577-4d7b-bc15-3f0dc6eb897f",
   "metadata": {
    "tags": []
   },
   "outputs": [
    {
     "data": {
      "text/plain": [
       "str"
      ]
     },
     "execution_count": 1,
     "metadata": {},
     "output_type": "execute_result"
    }
   ],
   "source": [
    "type(\"Hello, world\")"
   ]
  },
  {
   "cell_type": "code",
   "execution_count": 2,
   "id": "6001449a-b9e8-494f-abec-988a44a94924",
   "metadata": {
    "tags": []
   },
   "outputs": [
    {
     "data": {
      "text/plain": [
       "str"
      ]
     },
     "execution_count": 2,
     "metadata": {},
     "output_type": "execute_result"
    }
   ],
   "source": [
    "type(\"67.98\")"
   ]
  },
  {
   "cell_type": "code",
   "execution_count": 3,
   "id": "6a4b249e-c71e-47b0-a612-051874ff2f45",
   "metadata": {
    "tags": []
   },
   "outputs": [
    {
     "data": {
      "text/plain": [
       "str"
      ]
     },
     "execution_count": 3,
     "metadata": {},
     "output_type": "execute_result"
    }
   ],
   "source": [
    "type(\"45\")"
   ]
  },
  {
   "cell_type": "code",
   "execution_count": 4,
   "id": "47514941-2416-414c-aa2b-4ce421cd56ad",
   "metadata": {
    "tags": []
   },
   "outputs": [
    {
     "data": {
      "text/plain": [
       "str"
      ]
     },
     "execution_count": 4,
     "metadata": {},
     "output_type": "execute_result"
    }
   ],
   "source": [
    "type(\"()&^@&*I(*@\")"
   ]
  },
  {
   "cell_type": "code",
   "execution_count": 5,
   "id": "c78c1e99-7e86-44b2-8b84-1ab42513b616",
   "metadata": {
    "tags": []
   },
   "outputs": [
    {
     "name": "stdout",
     "output_type": "stream",
     "text": [
      "<class 'int'>\n",
      "<class 'str'>\n"
     ]
    }
   ],
   "source": [
    "print(type(56))\n",
    "\n",
    "print(type(\"56\"))"
   ]
  },
  {
   "cell_type": "code",
   "execution_count": 6,
   "id": "63f9ad3f-8e13-464b-9134-0dd84d572aef",
   "metadata": {
    "tags": []
   },
   "outputs": [
    {
     "data": {
      "text/plain": [
       "float"
      ]
     },
     "execution_count": 6,
     "metadata": {},
     "output_type": "execute_result"
    }
   ],
   "source": [
    "type(97.999999)"
   ]
  },
  {
   "cell_type": "code",
   "execution_count": 7,
   "id": "7490812e-c244-4611-a7f6-93230520b95f",
   "metadata": {
    "tags": []
   },
   "outputs": [
    {
     "data": {
      "text/plain": [
       "float"
      ]
     },
     "execution_count": 7,
     "metadata": {},
     "output_type": "execute_result"
    }
   ],
   "source": [
    "type(3.14)"
   ]
  },
  {
   "cell_type": "code",
   "execution_count": 8,
   "id": "41146899-5d89-443c-b62c-70385f62af4b",
   "metadata": {
    "tags": []
   },
   "outputs": [
    {
     "data": {
      "text/plain": [
       "bool"
      ]
     },
     "execution_count": 8,
     "metadata": {},
     "output_type": "execute_result"
    }
   ],
   "source": [
    "# writing a boolean in python\n",
    "type(True)"
   ]
  },
  {
   "cell_type": "code",
   "execution_count": 9,
   "id": "20a15a55-988d-446f-adef-662693c050d4",
   "metadata": {
    "tags": []
   },
   "outputs": [
    {
     "data": {
      "text/plain": [
       "bool"
      ]
     },
     "execution_count": 9,
     "metadata": {},
     "output_type": "execute_result"
    }
   ],
   "source": [
    "type(False)"
   ]
  },
  {
   "cell_type": "code",
   "execution_count": 10,
   "id": "2427b80b-4a51-438f-a0ca-4eeb100a62e5",
   "metadata": {
    "tags": []
   },
   "outputs": [
    {
     "data": {
      "text/plain": [
       "list"
      ]
     },
     "execution_count": 10,
     "metadata": {},
     "output_type": "execute_result"
    }
   ],
   "source": [
    "# list\n",
    "type([25, \"25\", True, 56.79, \"Nigerian\", [1, 2, 3, 4, 5], (34, 56, 78, 99), {4, 6, 8, 2}])"
   ]
  },
  {
   "cell_type": "code",
   "execution_count": 11,
   "id": "88ea140b-f2e2-4323-8d8b-14260bd4792e",
   "metadata": {
    "tags": []
   },
   "outputs": [],
   "source": [
    "countries = [\"Nigeria\", \"Ivory Coast\", \"America\", \"UK\", \"China\"]"
   ]
  },
  {
   "cell_type": "code",
   "execution_count": 12,
   "id": "04be646c-ac04-443c-ba25-20c2f3384f7f",
   "metadata": {
    "tags": []
   },
   "outputs": [
    {
     "data": {
      "text/plain": [
       "['Nigeria', 'Ivory Coast', 'America', 'UK', 'China']"
      ]
     },
     "execution_count": 12,
     "metadata": {},
     "output_type": "execute_result"
    }
   ],
   "source": [
    "countries"
   ]
  },
  {
   "cell_type": "code",
   "execution_count": 13,
   "id": "2bd3fcd3-8238-4a5b-81c0-9a9f75bef6d6",
   "metadata": {
    "tags": []
   },
   "outputs": [
    {
     "name": "stdout",
     "output_type": "stream",
     "text": [
      "['Nigeria', 'Ivory Coast', 'America', 'UK', 'China']\n"
     ]
    }
   ],
   "source": [
    "print(countries)"
   ]
  },
  {
   "cell_type": "code",
   "execution_count": 14,
   "id": "5ee386e7-4a18-4aa9-b09e-841524f6b8e2",
   "metadata": {
    "tags": []
   },
   "outputs": [
    {
     "data": {
      "text/plain": [
       "tuple"
      ]
     },
     "execution_count": 14,
     "metadata": {},
     "output_type": "execute_result"
    }
   ],
   "source": [
    "type((34, 56, 78, 99))"
   ]
  },
  {
   "cell_type": "code",
   "execution_count": 15,
   "id": "0e6df32e-bfcd-4e9d-b7e1-a912b670ed5e",
   "metadata": {
    "tags": []
   },
   "outputs": [
    {
     "data": {
      "text/plain": [
       "set"
      ]
     },
     "execution_count": 15,
     "metadata": {},
     "output_type": "execute_result"
    }
   ],
   "source": [
    "type({4, 6, 8, 2})"
   ]
  },
  {
   "cell_type": "code",
   "execution_count": 16,
   "id": "904e10eb-a8ad-45ea-a6f2-0117ff63f775",
   "metadata": {
    "tags": []
   },
   "outputs": [],
   "source": [
    "# Dictionary\n",
    "persons_data = {\n",
    "    \"name\" : \"Michael\",\n",
    "    \"age\" : 25,\n",
    "    \"height\" : \"1.6m\",\n",
    "    \"gender\" : \"male\",\n",
    "    \"complexion\" : \"dark\",\n",
    "    \"marital status\" : \"single\",\n",
    "    \"hobby\" : \"eating\",\n",
    "}"
   ]
  },
  {
   "cell_type": "code",
   "execution_count": 17,
   "id": "6d6921dd-8cf4-4932-919f-7cdcac80c6f6",
   "metadata": {
    "tags": []
   },
   "outputs": [
    {
     "data": {
      "text/plain": [
       "'Michael'"
      ]
     },
     "execution_count": 17,
     "metadata": {},
     "output_type": "execute_result"
    }
   ],
   "source": [
    "persons_data[\"name\"]"
   ]
  },
  {
   "cell_type": "code",
   "execution_count": 18,
   "id": "296628c6-a5c9-4f95-aa81-16e9bbb0078f",
   "metadata": {
    "tags": []
   },
   "outputs": [],
   "source": [
    "student_record = {\n",
    "    \"math score\" : [72, 69, 90, 47],\n",
    "    \"reading score\" : [72, 90, 95, 57],\n",
    "    \"writing score\" : [74, 88, 90, 45]\n",
    "}"
   ]
  },
  {
   "cell_type": "code",
   "execution_count": 19,
   "id": "abe5d98d-c8b7-4e24-8853-8de5fc7940a8",
   "metadata": {
    "tags": []
   },
   "outputs": [
    {
     "data": {
      "text/plain": [
       "[72, 69, 90, 47]"
      ]
     },
     "execution_count": 19,
     "metadata": {},
     "output_type": "execute_result"
    }
   ],
   "source": [
    "student_record[\"math score\"]"
   ]
  },
  {
   "cell_type": "markdown",
   "id": "05df4ed8-cb57-4090-9cbf-e893a42e2cbe",
   "metadata": {},
   "source": [
    "# List"
   ]
  },
  {
   "cell_type": "code",
   "execution_count": 20,
   "id": "a361549f-41af-4a1e-b704-f21e7996d9a1",
   "metadata": {
    "tags": []
   },
   "outputs": [],
   "source": [
    "countries = [\"Nigeria\", \"USA\", \"China\", \"India\"]"
   ]
  },
  {
   "cell_type": "code",
   "execution_count": 21,
   "id": "60391f62-85fe-474c-947f-f933feec7f4d",
   "metadata": {
    "tags": []
   },
   "outputs": [
    {
     "data": {
      "text/plain": [
       "4"
      ]
     },
     "execution_count": 21,
     "metadata": {},
     "output_type": "execute_result"
    }
   ],
   "source": [
    "len(countries)"
   ]
  },
  {
   "cell_type": "code",
   "execution_count": 22,
   "id": "182fcf46-ddd7-4b46-9e1e-b5c934e9ae53",
   "metadata": {
    "tags": []
   },
   "outputs": [
    {
     "data": {
      "text/plain": [
       "'Nigeria'"
      ]
     },
     "execution_count": 22,
     "metadata": {},
     "output_type": "execute_result"
    }
   ],
   "source": [
    "countries[0]"
   ]
  },
  {
   "cell_type": "code",
   "execution_count": 23,
   "id": "3b3bb310-0f28-4bb7-b1c3-8ce2a67afe3f",
   "metadata": {
    "tags": []
   },
   "outputs": [
    {
     "data": {
      "text/plain": [
       "'India'"
      ]
     },
     "execution_count": 23,
     "metadata": {},
     "output_type": "execute_result"
    }
   ],
   "source": [
    "countries[3]"
   ]
  },
  {
   "cell_type": "code",
   "execution_count": 24,
   "id": "1f5d919c-8b74-436f-bc30-c943f60350bb",
   "metadata": {
    "tags": []
   },
   "outputs": [
    {
     "data": {
      "text/plain": [
       "'USA'"
      ]
     },
     "execution_count": 24,
     "metadata": {},
     "output_type": "execute_result"
    }
   ],
   "source": [
    "countries[1]"
   ]
  },
  {
   "cell_type": "code",
   "execution_count": 25,
   "id": "a46a79cd-7068-4fee-9d4a-b7cebb4a3e30",
   "metadata": {
    "tags": []
   },
   "outputs": [
    {
     "data": {
      "text/plain": [
       "'China'"
      ]
     },
     "execution_count": 25,
     "metadata": {},
     "output_type": "execute_result"
    }
   ],
   "source": [
    "countries[2]"
   ]
  },
  {
   "cell_type": "code",
   "execution_count": 26,
   "id": "1c07acea-4097-4f85-994f-b956914dc412",
   "metadata": {
    "tags": []
   },
   "outputs": [
    {
     "data": {
      "text/plain": [
       "'Nigeria'"
      ]
     },
     "execution_count": 26,
     "metadata": {},
     "output_type": "execute_result"
    }
   ],
   "source": [
    "countries[-4]"
   ]
  },
  {
   "cell_type": "code",
   "execution_count": 27,
   "id": "6c095261-143e-4308-bc63-c816d53263af",
   "metadata": {
    "tags": []
   },
   "outputs": [
    {
     "data": {
      "text/plain": [
       "['Nigeria', 'USA', 'China', 'India']"
      ]
     },
     "execution_count": 27,
     "metadata": {},
     "output_type": "execute_result"
    }
   ],
   "source": [
    "countries"
   ]
  },
  {
   "cell_type": "code",
   "execution_count": 28,
   "id": "11d61cef-3c0e-4042-a029-b4d2f10c277e",
   "metadata": {
    "tags": []
   },
   "outputs": [
    {
     "data": {
      "text/plain": [
       "['USA', 'China']"
      ]
     },
     "execution_count": 28,
     "metadata": {},
     "output_type": "execute_result"
    }
   ],
   "source": [
    "countries[1:-1]"
   ]
  },
  {
   "cell_type": "markdown",
   "id": "f114112f-dc1a-494c-9be6-74e6e62ccb44",
   "metadata": {},
   "source": [
    "# Modifing a list"
   ]
  },
  {
   "cell_type": "code",
   "execution_count": 29,
   "id": "19b5251e-73bf-45a7-9156-9ca7bf195057",
   "metadata": {
    "tags": []
   },
   "outputs": [],
   "source": [
    "# Adding to a list"
   ]
  },
  {
   "cell_type": "code",
   "execution_count": 30,
   "id": "dbe97893-50f7-4127-a434-500b4c429209",
   "metadata": {
    "tags": []
   },
   "outputs": [],
   "source": [
    "countries.append(\"Japan\")"
   ]
  },
  {
   "cell_type": "code",
   "execution_count": 31,
   "id": "a83396b8-cbe9-4d5a-9cbc-45d6fe2e6fdf",
   "metadata": {
    "tags": []
   },
   "outputs": [
    {
     "data": {
      "text/plain": [
       "['Nigeria', 'USA', 'China', 'India', 'Japan']"
      ]
     },
     "execution_count": 31,
     "metadata": {},
     "output_type": "execute_result"
    }
   ],
   "source": [
    "countries"
   ]
  },
  {
   "cell_type": "code",
   "execution_count": 32,
   "id": "da6833c9-88cd-45dc-9bc5-61cb86690e51",
   "metadata": {
    "tags": []
   },
   "outputs": [],
   "source": [
    "countries.append(\"Canada\")"
   ]
  },
  {
   "cell_type": "code",
   "execution_count": 33,
   "id": "9e669a44-fe6a-4860-becc-ea410f9349e1",
   "metadata": {
    "tags": []
   },
   "outputs": [
    {
     "data": {
      "text/plain": [
       "['Nigeria', 'USA', 'China', 'India', 'Japan', 'Canada']"
      ]
     },
     "execution_count": 33,
     "metadata": {},
     "output_type": "execute_result"
    }
   ],
   "source": [
    "countries"
   ]
  },
  {
   "cell_type": "code",
   "execution_count": 34,
   "id": "1f70a205-d181-43ab-8517-fb1006de9d9a",
   "metadata": {
    "tags": []
   },
   "outputs": [],
   "source": [
    "countries.insert(2, \"UK\")"
   ]
  },
  {
   "cell_type": "code",
   "execution_count": 35,
   "id": "1d439600-e133-406b-b012-4c309823ff88",
   "metadata": {
    "tags": []
   },
   "outputs": [
    {
     "data": {
      "text/plain": [
       "['Nigeria', 'USA', 'UK', 'China', 'India', 'Japan', 'Canada']"
      ]
     },
     "execution_count": 35,
     "metadata": {},
     "output_type": "execute_result"
    }
   ],
   "source": [
    "countries"
   ]
  },
  {
   "cell_type": "code",
   "execution_count": 36,
   "id": "52eb9be2-4e1e-41e1-95aa-718dedca0fa1",
   "metadata": {
    "tags": []
   },
   "outputs": [],
   "source": [
    "countries.insert(1, \"Russia\")"
   ]
  },
  {
   "cell_type": "code",
   "execution_count": 37,
   "id": "5c9c1989-f42c-4e36-8cc4-824eb18bf02d",
   "metadata": {
    "tags": []
   },
   "outputs": [
    {
     "data": {
      "text/plain": [
       "['Nigeria', 'Russia', 'USA', 'UK', 'China', 'India', 'Japan', 'Canada']"
      ]
     },
     "execution_count": 37,
     "metadata": {},
     "output_type": "execute_result"
    }
   ],
   "source": [
    "countries"
   ]
  },
  {
   "cell_type": "markdown",
   "id": "0d00afc3-ef5d-47b2-a3e5-62ae3618a222",
   "metadata": {},
   "source": [
    "# Removing from a list"
   ]
  },
  {
   "cell_type": "code",
   "execution_count": 38,
   "id": "455c3292-882e-462f-9629-eaef510d1dbf",
   "metadata": {
    "tags": []
   },
   "outputs": [
    {
     "data": {
      "text/plain": [
       "'Canada'"
      ]
     },
     "execution_count": 38,
     "metadata": {},
     "output_type": "execute_result"
    }
   ],
   "source": [
    "# pop method\n",
    "countries.pop()"
   ]
  },
  {
   "cell_type": "code",
   "execution_count": 39,
   "id": "3374c336-0cbe-4212-94bd-9d0efcc7b409",
   "metadata": {
    "tags": []
   },
   "outputs": [
    {
     "data": {
      "text/plain": [
       "['Nigeria', 'Russia', 'USA', 'UK', 'China', 'India', 'Japan']"
      ]
     },
     "execution_count": 39,
     "metadata": {},
     "output_type": "execute_result"
    }
   ],
   "source": [
    "countries"
   ]
  },
  {
   "cell_type": "code",
   "execution_count": 40,
   "id": "34e525ac-bde5-436a-ab50-2603c5630f85",
   "metadata": {
    "tags": []
   },
   "outputs": [
    {
     "data": {
      "text/plain": [
       "'USA'"
      ]
     },
     "execution_count": 40,
     "metadata": {},
     "output_type": "execute_result"
    }
   ],
   "source": [
    "countries.pop(2)"
   ]
  },
  {
   "cell_type": "code",
   "execution_count": 41,
   "id": "8c3c51b6-caeb-47d0-9774-1617c13e330d",
   "metadata": {
    "tags": []
   },
   "outputs": [
    {
     "data": {
      "text/plain": [
       "['Nigeria', 'Russia', 'UK', 'China', 'India', 'Japan']"
      ]
     },
     "execution_count": 41,
     "metadata": {},
     "output_type": "execute_result"
    }
   ],
   "source": [
    "countries"
   ]
  },
  {
   "cell_type": "code",
   "execution_count": 42,
   "id": "26820a26-107c-4ada-88a1-a1c37764ab4b",
   "metadata": {
    "tags": []
   },
   "outputs": [],
   "source": [
    "countries.remove(\"UK\")"
   ]
  },
  {
   "cell_type": "code",
   "execution_count": 43,
   "id": "286cfe75-c5ec-466c-bc8b-23bb0a5db663",
   "metadata": {
    "tags": []
   },
   "outputs": [
    {
     "data": {
      "text/plain": [
       "['Nigeria', 'Russia', 'China', 'India', 'Japan']"
      ]
     },
     "execution_count": 43,
     "metadata": {},
     "output_type": "execute_result"
    }
   ],
   "source": [
    "countries"
   ]
  },
  {
   "cell_type": "code",
   "execution_count": 44,
   "id": "b16d1d85-a676-4053-9766-957cd3cdb366",
   "metadata": {
    "tags": []
   },
   "outputs": [],
   "source": [
    "del countries[1]"
   ]
  },
  {
   "cell_type": "code",
   "execution_count": 45,
   "id": "c7259e37-c506-4206-9567-2060072b1491",
   "metadata": {
    "tags": []
   },
   "outputs": [
    {
     "data": {
      "text/plain": [
       "['Nigeria', 'China', 'India', 'Japan']"
      ]
     },
     "execution_count": 45,
     "metadata": {},
     "output_type": "execute_result"
    }
   ],
   "source": [
    "countries"
   ]
  },
  {
   "cell_type": "code",
   "execution_count": 46,
   "id": "5d387913-37e1-44aa-bcd8-938a38dd1dc5",
   "metadata": {
    "tags": []
   },
   "outputs": [],
   "source": [
    "# Sorting\n",
    "\n",
    "numbers = [45, 65, 0, 34, 435, 999, 1999, 5000, 32, 27, -12]"
   ]
  },
  {
   "cell_type": "code",
   "execution_count": 47,
   "id": "a06729bd-ca68-455a-9f8e-c9bb0523f2b1",
   "metadata": {
    "tags": []
   },
   "outputs": [],
   "source": [
    "numbers.sort()"
   ]
  },
  {
   "cell_type": "code",
   "execution_count": 48,
   "id": "a0c0a433-2c3a-472e-aa70-082ada97076d",
   "metadata": {
    "tags": []
   },
   "outputs": [
    {
     "data": {
      "text/plain": [
       "[-12, 0, 27, 32, 34, 45, 65, 435, 999, 1999, 5000]"
      ]
     },
     "execution_count": 48,
     "metadata": {},
     "output_type": "execute_result"
    }
   ],
   "source": [
    "numbers"
   ]
  },
  {
   "cell_type": "code",
   "execution_count": 49,
   "id": "0a4dc3df-90fd-475e-b517-0025a38b8055",
   "metadata": {
    "tags": []
   },
   "outputs": [],
   "source": [
    "numbers.sort(reverse = True)"
   ]
  },
  {
   "cell_type": "code",
   "execution_count": 50,
   "id": "8e8086a8-586f-4feb-a522-d165830dde3a",
   "metadata": {
    "tags": []
   },
   "outputs": [
    {
     "data": {
      "text/plain": [
       "[5000, 1999, 999, 435, 65, 45, 34, 32, 27, 0, -12]"
      ]
     },
     "execution_count": 50,
     "metadata": {},
     "output_type": "execute_result"
    }
   ],
   "source": [
    "numbers"
   ]
  },
  {
   "cell_type": "code",
   "execution_count": 51,
   "id": "036c942b-34d5-48fb-86eb-81264aded856",
   "metadata": {
    "tags": []
   },
   "outputs": [],
   "source": [
    "number_2 = [34, -10, -2, 45, 100, 26, 90, 2, 5, 14]"
   ]
  },
  {
   "cell_type": "code",
   "execution_count": 52,
   "id": "0af7433f-b6dd-4d13-8c9d-8d9792f0af0a",
   "metadata": {
    "tags": []
   },
   "outputs": [],
   "source": [
    "unsorted_numbers = number_2[0:10:2]"
   ]
  },
  {
   "cell_type": "code",
   "execution_count": 53,
   "id": "c46b268f-e928-47df-b6d8-6331538b373f",
   "metadata": {
    "tags": []
   },
   "outputs": [
    {
     "data": {
      "text/plain": [
       "[34, -2, 100, 90, 5]"
      ]
     },
     "execution_count": 53,
     "metadata": {},
     "output_type": "execute_result"
    }
   ],
   "source": [
    "unsorted_numbers"
   ]
  },
  {
   "cell_type": "code",
   "execution_count": 54,
   "id": "5ac8a6f7-22c0-4027-afd7-500205a00fb4",
   "metadata": {
    "tags": []
   },
   "outputs": [],
   "source": [
    "unsorted_numbers.sort()"
   ]
  },
  {
   "cell_type": "code",
   "execution_count": 55,
   "id": "41d10f41-cf42-42ad-b2c2-e61504bf03f8",
   "metadata": {
    "tags": []
   },
   "outputs": [
    {
     "data": {
      "text/plain": [
       "[-2, 5, 34, 90, 100]"
      ]
     },
     "execution_count": 55,
     "metadata": {},
     "output_type": "execute_result"
    }
   ],
   "source": [
    "unsorted_numbers"
   ]
  },
  {
   "cell_type": "code",
   "execution_count": null,
   "id": "78e1ddf0-cbe3-41e8-9beb-7b68a195428e",
   "metadata": {},
   "outputs": [],
   "source": []
  }
 ],
 "metadata": {
  "kernelspec": {
   "display_name": "Python 3 (ipykernel)",
   "language": "python",
   "name": "python3"
  },
  "language_info": {
   "codemirror_mode": {
    "name": "ipython",
    "version": 3
   },
   "file_extension": ".py",
   "mimetype": "text/x-python",
   "name": "python",
   "nbconvert_exporter": "python",
   "pygments_lexer": "ipython3",
   "version": "3.12.1"
  }
 },
 "nbformat": 4,
 "nbformat_minor": 5
}
