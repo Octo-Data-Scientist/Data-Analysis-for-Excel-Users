{
 "cells": [
  {
   "cell_type": "markdown",
   "id": "7f87e96d-b9c2-4f7d-9020-bbdb9f4c7572",
   "metadata": {},
   "source": [
    "# 1. Hello World"
   ]
  },
  {
   "cell_type": "code",
   "execution_count": 2,
   "id": "f8d92809-d039-44e9-855a-fc3db1cbc3e5",
   "metadata": {
    "tags": []
   },
   "outputs": [
    {
     "name": "stdout",
     "output_type": "stream",
     "text": [
      "Hello, World\n"
     ]
    }
   ],
   "source": [
    "print(\"Hello, World\")"
   ]
  },
  {
   "cell_type": "code",
   "execution_count": 2,
   "id": "eaf0517b-d451-4837-a27b-8d3ea673869b",
   "metadata": {
    "tags": []
   },
   "outputs": [
    {
     "data": {
      "text/plain": [
       "str"
      ]
     },
     "execution_count": 2,
     "metadata": {},
     "output_type": "execute_result"
    }
   ],
   "source": [
    "type(\"Hello, World\")"
   ]
  },
  {
   "cell_type": "markdown",
   "id": "0d472a85-69fe-4aed-af36-17209cd7b3eb",
   "metadata": {},
   "source": [
    "# 2. Data types"
   ]
  },
  {
   "cell_type": "code",
   "execution_count": 3,
   "id": "fa8e1517-4dc7-4dd8-9eed-9b330a5c5ab4",
   "metadata": {
    "tags": []
   },
   "outputs": [
    {
     "data": {
      "text/plain": [
       "int"
      ]
     },
     "execution_count": 3,
     "metadata": {},
     "output_type": "execute_result"
    }
   ],
   "source": [
    "type(25)"
   ]
  },
  {
   "cell_type": "code",
   "execution_count": 4,
   "id": "607fe7b6-7bc7-4dde-bc9a-79c9a0b84c61",
   "metadata": {
    "tags": []
   },
   "outputs": [
    {
     "data": {
      "text/plain": [
       "float"
      ]
     },
     "execution_count": 4,
     "metadata": {},
     "output_type": "execute_result"
    }
   ],
   "source": [
    "type(25.55)"
   ]
  },
  {
   "cell_type": "code",
   "execution_count": 5,
   "id": "de3e87b7-6fdd-4eac-b675-348c6ef2beec",
   "metadata": {
    "tags": []
   },
   "outputs": [
    {
     "data": {
      "text/plain": [
       "bool"
      ]
     },
     "execution_count": 5,
     "metadata": {},
     "output_type": "execute_result"
    }
   ],
   "source": [
    "type(True)"
   ]
  },
  {
   "cell_type": "code",
   "execution_count": 6,
   "id": "02f515ce-2139-43a3-86d2-997b7cd34d5d",
   "metadata": {
    "tags": []
   },
   "outputs": [
    {
     "data": {
      "text/plain": [
       "'HELLO, WORLD'"
      ]
     },
     "execution_count": 6,
     "metadata": {},
     "output_type": "execute_result"
    }
   ],
   "source": [
    "# String methods\n",
    "\"Hello, world\".upper()"
   ]
  },
  {
   "cell_type": "code",
   "execution_count": 7,
   "id": "5cea5805-e10e-4fd4-9a54-e33e216cc7ce",
   "metadata": {
    "tags": []
   },
   "outputs": [
    {
     "data": {
      "text/plain": [
       "'hello, world'"
      ]
     },
     "execution_count": 7,
     "metadata": {},
     "output_type": "execute_result"
    }
   ],
   "source": [
    "\"Hello, world\".lower()"
   ]
  },
  {
   "cell_type": "code",
   "execution_count": 8,
   "id": "b88dc552-be66-43c7-85c9-17a5038a7b14",
   "metadata": {
    "tags": []
   },
   "outputs": [
    {
     "data": {
      "text/plain": [
       "'Hello, World'"
      ]
     },
     "execution_count": 8,
     "metadata": {},
     "output_type": "execute_result"
    }
   ],
   "source": [
    "\"hello, world\".title()"
   ]
  },
  {
   "cell_type": "code",
   "execution_count": 9,
   "id": "397c8cfa-a6f5-4d81-8372-73edca892e8c",
   "metadata": {
    "tags": []
   },
   "outputs": [
    {
     "data": {
      "text/plain": [
       "3"
      ]
     },
     "execution_count": 9,
     "metadata": {},
     "output_type": "execute_result"
    }
   ],
   "source": [
    "# counting the number of occurence of a string\n",
    "\"Hello World\".count(\"l\")"
   ]
  },
  {
   "cell_type": "code",
   "execution_count": 10,
   "id": "1e1d9ff6-8c3b-4829-a1d5-b0a14ff47f2e",
   "metadata": {
    "tags": []
   },
   "outputs": [
    {
     "data": {
      "text/plain": [
       "'Hello  World'"
      ]
     },
     "execution_count": 10,
     "metadata": {},
     "output_type": "execute_result"
    }
   ],
   "source": [
    "# replace a string with another string\n",
    "\"Hello, World\".replace(\",\", \" \")"
   ]
  },
  {
   "cell_type": "code",
   "execution_count": 11,
   "id": "8f4e3bed-8ed9-410f-9d73-32df409cd7dc",
   "metadata": {
    "tags": []
   },
   "outputs": [
    {
     "data": {
      "text/plain": [
       "'Hellu, Wurld'"
      ]
     },
     "execution_count": 11,
     "metadata": {},
     "output_type": "execute_result"
    }
   ],
   "source": [
    "\"Hello, World\".replace(\"o\", \"u\")"
   ]
  },
  {
   "cell_type": "markdown",
   "id": "dc2e3783-4349-43a8-ac2d-bfe98f61b6e5",
   "metadata": {},
   "source": [
    "# 3. Variables"
   ]
  },
  {
   "cell_type": "code",
   "execution_count": 12,
   "id": "a82c5834-a079-4c8c-888d-cf5e37a65b62",
   "metadata": {
    "tags": []
   },
   "outputs": [],
   "source": [
    "message_1 = \"I'm learning python\""
   ]
  },
  {
   "cell_type": "code",
   "execution_count": 13,
   "id": "9007d90d-d26e-4b9b-b1f7-845ffa514021",
   "metadata": {
    "tags": []
   },
   "outputs": [
    {
     "data": {
      "text/plain": [
       "\"I'm learning python\""
      ]
     },
     "execution_count": 13,
     "metadata": {},
     "output_type": "execute_result"
    }
   ],
   "source": [
    "message_1"
   ]
  },
  {
   "cell_type": "code",
   "execution_count": 14,
   "id": "967c1fa8-587d-4dd2-9d45-12e171a5e8cf",
   "metadata": {
    "tags": []
   },
   "outputs": [],
   "source": [
    "message_2 = \"and it's fun.\""
   ]
  },
  {
   "cell_type": "code",
   "execution_count": 15,
   "id": "949b7cc9-0a05-40c0-aba4-990b94611592",
   "metadata": {
    "tags": []
   },
   "outputs": [
    {
     "data": {
      "text/plain": [
       "\"and it's fun.\""
      ]
     },
     "execution_count": 15,
     "metadata": {},
     "output_type": "execute_result"
    }
   ],
   "source": [
    "message_2"
   ]
  },
  {
   "cell_type": "code",
   "execution_count": 16,
   "id": "269717a1-ac8a-4a4e-ae67-83be55957986",
   "metadata": {
    "tags": []
   },
   "outputs": [
    {
     "data": {
      "text/plain": [
       "\"I'm learning python and it's fun.\""
      ]
     },
     "execution_count": 16,
     "metadata": {},
     "output_type": "execute_result"
    }
   ],
   "source": [
    "message_1 + \" \" + message_2"
   ]
  },
  {
   "cell_type": "code",
   "execution_count": 17,
   "id": "f105cb94-99ce-44f8-98b8-20d4c4795313",
   "metadata": {
    "tags": []
   },
   "outputs": [],
   "source": [
    "message = message_1 + \" \" + message_2"
   ]
  },
  {
   "cell_type": "code",
   "execution_count": 18,
   "id": "ddffeb50-baed-470e-bca5-ca6caff92166",
   "metadata": {
    "tags": []
   },
   "outputs": [
    {
     "data": {
      "text/plain": [
       "\"I'm learning python and it's fun.\""
      ]
     },
     "execution_count": 18,
     "metadata": {},
     "output_type": "execute_result"
    }
   ],
   "source": [
    "message"
   ]
  },
  {
   "cell_type": "code",
   "execution_count": 19,
   "id": "48b37ab8-d8be-4162-8c17-2d136f59d253",
   "metadata": {
    "tags": []
   },
   "outputs": [],
   "source": [
    "message = f\"{message_1} {message_2}\""
   ]
  },
  {
   "cell_type": "code",
   "execution_count": 20,
   "id": "745df8ad-0284-4544-b543-673affa6c0c1",
   "metadata": {
    "tags": []
   },
   "outputs": [
    {
     "data": {
      "text/plain": [
       "\"I'm learning python and it's fun.\""
      ]
     },
     "execution_count": 20,
     "metadata": {},
     "output_type": "execute_result"
    }
   ],
   "source": [
    "message"
   ]
  },
  {
   "cell_type": "markdown",
   "id": "f908e3e2-b734-4ca4-a1d2-e3afc4d8c2d2",
   "metadata": {},
   "source": [
    "# 4. List"
   ]
  },
  {
   "cell_type": "code",
   "execution_count": 21,
   "id": "07f0cded-740b-4fb2-b059-2825793c15fe",
   "metadata": {
    "tags": []
   },
   "outputs": [],
   "source": [
    "countries = [\"United States\", \"China\", \"India\", \"Brazil\"]"
   ]
  },
  {
   "cell_type": "code",
   "execution_count": 22,
   "id": "ab772cca-c450-44bf-8902-de0880f65746",
   "metadata": {
    "tags": []
   },
   "outputs": [
    {
     "data": {
      "text/plain": [
       "['United States', 'China', 'India', 'Brazil']"
      ]
     },
     "execution_count": 22,
     "metadata": {},
     "output_type": "execute_result"
    }
   ],
   "source": [
    "countries"
   ]
  },
  {
   "cell_type": "code",
   "execution_count": 23,
   "id": "fe636f1b-f226-419a-8557-b8d03b5a7191",
   "metadata": {
    "tags": []
   },
   "outputs": [
    {
     "data": {
      "text/plain": [
       "'United States'"
      ]
     },
     "execution_count": 23,
     "metadata": {},
     "output_type": "execute_result"
    }
   ],
   "source": [
    "countries[0]"
   ]
  },
  {
   "cell_type": "code",
   "execution_count": 24,
   "id": "0bdb8b29-436a-4215-9939-68dec8b70541",
   "metadata": {
    "tags": []
   },
   "outputs": [
    {
     "data": {
      "text/plain": [
       "'China'"
      ]
     },
     "execution_count": 24,
     "metadata": {},
     "output_type": "execute_result"
    }
   ],
   "source": [
    "countries[1]"
   ]
  },
  {
   "cell_type": "code",
   "execution_count": 25,
   "id": "8d2cc1d2-8bee-4ee4-b178-efffef1e9d28",
   "metadata": {
    "tags": []
   },
   "outputs": [
    {
     "data": {
      "text/plain": [
       "'India'"
      ]
     },
     "execution_count": 25,
     "metadata": {},
     "output_type": "execute_result"
    }
   ],
   "source": [
    "countries[2]"
   ]
  },
  {
   "cell_type": "code",
   "execution_count": 26,
   "id": "c4796534-dfba-4fd0-8e83-eddcf949efdc",
   "metadata": {
    "tags": []
   },
   "outputs": [
    {
     "data": {
      "text/plain": [
       "'Brazil'"
      ]
     },
     "execution_count": 26,
     "metadata": {},
     "output_type": "execute_result"
    }
   ],
   "source": [
    "countries[3]"
   ]
  },
  {
   "cell_type": "code",
   "execution_count": 27,
   "id": "e761b706-4fc6-487a-abf1-9b0cc63eb173",
   "metadata": {
    "tags": []
   },
   "outputs": [
    {
     "data": {
      "text/plain": [
       "['United States', 'China', 'India']"
      ]
     },
     "execution_count": 27,
     "metadata": {},
     "output_type": "execute_result"
    }
   ],
   "source": [
    "# countries[start:stop]\n",
    "\n",
    "# countries[start:stop:step]\n",
    "\n",
    "countries[:3]"
   ]
  },
  {
   "cell_type": "code",
   "execution_count": 28,
   "id": "3fc8161b-5b49-4f08-94a0-c833f975868f",
   "metadata": {
    "tags": []
   },
   "outputs": [
    {
     "data": {
      "text/plain": [
       "['United States', 'China', 'India', 'Brazil']"
      ]
     },
     "execution_count": 28,
     "metadata": {},
     "output_type": "execute_result"
    }
   ],
   "source": [
    "countries[:]"
   ]
  },
  {
   "cell_type": "code",
   "execution_count": 29,
   "id": "9a318b33-a826-42d3-bedd-f03c0356b9bc",
   "metadata": {
    "tags": []
   },
   "outputs": [
    {
     "data": {
      "text/plain": [
       "['United States', 'China', 'India', 'Brazil']"
      ]
     },
     "execution_count": 29,
     "metadata": {},
     "output_type": "execute_result"
    }
   ],
   "source": [
    "countries[0:]"
   ]
  },
  {
   "cell_type": "code",
   "execution_count": 30,
   "id": "f8a80e8f-2c26-4101-8d48-2650ec27dc0b",
   "metadata": {
    "tags": []
   },
   "outputs": [
    {
     "data": {
      "text/plain": [
       "['United States', 'China', 'India']"
      ]
     },
     "execution_count": 30,
     "metadata": {},
     "output_type": "execute_result"
    }
   ],
   "source": [
    "countries[0:3]"
   ]
  },
  {
   "cell_type": "code",
   "execution_count": 31,
   "id": "977fa11f-6396-4458-ab1d-865f9c13dcdf",
   "metadata": {
    "tags": []
   },
   "outputs": [
    {
     "data": {
      "text/plain": [
       "'Brazil'"
      ]
     },
     "execution_count": 31,
     "metadata": {},
     "output_type": "execute_result"
    }
   ],
   "source": [
    "countries[-1]"
   ]
  },
  {
   "cell_type": "code",
   "execution_count": 32,
   "id": "2e043829-e967-41b9-8eb4-ef6000ede162",
   "metadata": {
    "tags": []
   },
   "outputs": [
    {
     "data": {
      "text/plain": [
       "['United States', 'India']"
      ]
     },
     "execution_count": 32,
     "metadata": {},
     "output_type": "execute_result"
    }
   ],
   "source": [
    "countries[0:3:2]"
   ]
  },
  {
   "cell_type": "markdown",
   "id": "1651a065-5ff8-4372-b135-3e82c81e8cd6",
   "metadata": {},
   "source": [
    "# 4.1 Adding elements to a list"
   ]
  },
  {
   "cell_type": "code",
   "execution_count": 33,
   "id": "c8723d1d-88e6-4983-afe2-78769a4dcab9",
   "metadata": {
    "tags": []
   },
   "outputs": [
    {
     "data": {
      "text/plain": [
       "['United States', 'China', 'India', 'Brazil']"
      ]
     },
     "execution_count": 33,
     "metadata": {},
     "output_type": "execute_result"
    }
   ],
   "source": [
    "countries"
   ]
  },
  {
   "cell_type": "code",
   "execution_count": 34,
   "id": "0409300c-1309-4ea7-b36e-dc313cac6ce1",
   "metadata": {
    "tags": []
   },
   "outputs": [],
   "source": [
    "countries.append(\"Canada\") # using the append method"
   ]
  },
  {
   "cell_type": "code",
   "execution_count": 35,
   "id": "15244b96-8cf2-48d8-ba24-14be80c71039",
   "metadata": {
    "tags": []
   },
   "outputs": [
    {
     "data": {
      "text/plain": [
       "['United States', 'China', 'India', 'Brazil', 'Canada']"
      ]
     },
     "execution_count": 35,
     "metadata": {},
     "output_type": "execute_result"
    }
   ],
   "source": [
    "countries"
   ]
  },
  {
   "cell_type": "code",
   "execution_count": 36,
   "id": "b5b1417a-a1ad-46bd-be41-150dd650a820",
   "metadata": {
    "tags": []
   },
   "outputs": [],
   "source": [
    "countries.insert(0, \"United Kingdom\") # using the insert method"
   ]
  },
  {
   "cell_type": "code",
   "execution_count": 37,
   "id": "cc4e699d-da40-4a06-83cf-480e0efddf21",
   "metadata": {
    "tags": []
   },
   "outputs": [
    {
     "data": {
      "text/plain": [
       "['United Kingdom', 'United States', 'China', 'India', 'Brazil', 'Canada']"
      ]
     },
     "execution_count": 37,
     "metadata": {},
     "output_type": "execute_result"
    }
   ],
   "source": [
    "countries"
   ]
  },
  {
   "cell_type": "code",
   "execution_count": 38,
   "id": "4ef7cd55-4308-422a-93fa-bdcd33dae28c",
   "metadata": {
    "tags": []
   },
   "outputs": [],
   "source": [
    "countries_2 = [\"Spain\", \"Germany\", \"Austria\", \"Russia\"]"
   ]
  },
  {
   "cell_type": "code",
   "execution_count": 39,
   "id": "c4992ddb-3fc4-4275-bb36-79637bcd8f6d",
   "metadata": {
    "tags": []
   },
   "outputs": [
    {
     "data": {
      "text/plain": [
       "['Spain', 'Germany', 'Austria', 'Russia']"
      ]
     },
     "execution_count": 39,
     "metadata": {},
     "output_type": "execute_result"
    }
   ],
   "source": [
    "countries_2"
   ]
  },
  {
   "cell_type": "code",
   "execution_count": 40,
   "id": "378e6ab9-2514-421d-9c75-7143405bdeae",
   "metadata": {
    "tags": []
   },
   "outputs": [
    {
     "data": {
      "text/plain": [
       "['United Kingdom',\n",
       " 'United States',\n",
       " 'China',\n",
       " 'India',\n",
       " 'Brazil',\n",
       " 'Canada',\n",
       " 'Spain',\n",
       " 'Germany',\n",
       " 'Austria',\n",
       " 'Russia']"
      ]
     },
     "execution_count": 40,
     "metadata": {},
     "output_type": "execute_result"
    }
   ],
   "source": [
    "countries + countries_2"
   ]
  },
  {
   "cell_type": "code",
   "execution_count": 41,
   "id": "68553867-075c-4c53-9a98-4a0ec3d725b9",
   "metadata": {
    "tags": []
   },
   "outputs": [],
   "source": [
    "nested_list = [countries, countries_2]"
   ]
  },
  {
   "cell_type": "code",
   "execution_count": 42,
   "id": "4af94055-7c1a-47a8-a2ff-82b4500709de",
   "metadata": {
    "tags": []
   },
   "outputs": [
    {
     "data": {
      "text/plain": [
       "[['United Kingdom', 'United States', 'China', 'India', 'Brazil', 'Canada'],\n",
       " ['Spain', 'Germany', 'Austria', 'Russia']]"
      ]
     },
     "execution_count": 42,
     "metadata": {},
     "output_type": "execute_result"
    }
   ],
   "source": [
    "nested_list"
   ]
  },
  {
   "cell_type": "markdown",
   "id": "e29bfd6d-d4d4-4cf5-833a-1ae8b5a0c8d7",
   "metadata": {},
   "source": [
    "# 4.2 Removing elements from a list"
   ]
  },
  {
   "cell_type": "code",
   "execution_count": 43,
   "id": "2640a8c9-c1ab-4d31-a6d7-066615a44a2e",
   "metadata": {
    "tags": []
   },
   "outputs": [],
   "source": [
    "countries.remove(\"United States\") # remove method"
   ]
  },
  {
   "cell_type": "code",
   "execution_count": 44,
   "id": "de03667f-23c0-4e95-8a41-f641aec98efe",
   "metadata": {
    "tags": []
   },
   "outputs": [
    {
     "data": {
      "text/plain": [
       "['United Kingdom', 'China', 'India', 'Brazil', 'Canada']"
      ]
     },
     "execution_count": 44,
     "metadata": {},
     "output_type": "execute_result"
    }
   ],
   "source": [
    "countries"
   ]
  },
  {
   "cell_type": "code",
   "execution_count": 45,
   "id": "45a02e42-2e38-4706-8f2c-a0a4065a32c7",
   "metadata": {
    "tags": []
   },
   "outputs": [
    {
     "data": {
      "text/plain": [
       "'Canada'"
      ]
     },
     "execution_count": 45,
     "metadata": {},
     "output_type": "execute_result"
    }
   ],
   "source": [
    "countries.pop(-1) # pop method"
   ]
  },
  {
   "cell_type": "code",
   "execution_count": 46,
   "id": "31a917a1-d487-431a-a1cf-8272b66e12e8",
   "metadata": {
    "tags": []
   },
   "outputs": [
    {
     "data": {
      "text/plain": [
       "['United Kingdom', 'China', 'India', 'Brazil']"
      ]
     },
     "execution_count": 46,
     "metadata": {},
     "output_type": "execute_result"
    }
   ],
   "source": [
    "countries"
   ]
  },
  {
   "cell_type": "code",
   "execution_count": 47,
   "id": "b4a5efc0-8825-4eca-a840-df7f165e530b",
   "metadata": {
    "tags": []
   },
   "outputs": [],
   "source": [
    "del countries[0] # using the del statement"
   ]
  },
  {
   "cell_type": "code",
   "execution_count": 48,
   "id": "d6988892-a30f-4a03-b54a-5a0b1f6565b6",
   "metadata": {
    "tags": []
   },
   "outputs": [
    {
     "data": {
      "text/plain": [
       "['China', 'India', 'Brazil']"
      ]
     },
     "execution_count": 48,
     "metadata": {},
     "output_type": "execute_result"
    }
   ],
   "source": [
    "countries"
   ]
  },
  {
   "cell_type": "markdown",
   "id": "dfb952d3-bb4c-4c7f-96b4-7bd6864a9ecf",
   "metadata": {},
   "source": [
    "# 4.3 Sorting a list"
   ]
  },
  {
   "cell_type": "code",
   "execution_count": 70,
   "id": "60bd3056-fdac-4ae5-9972-d1525f35e9a8",
   "metadata": {
    "tags": []
   },
   "outputs": [],
   "source": [
    "numbers = [5, 7, 8, 33, 56, 12, 64, 98, 10]"
   ]
  },
  {
   "cell_type": "code",
   "execution_count": 71,
   "id": "124291ef-5b75-4142-ad97-03b4d7eca390",
   "metadata": {
    "tags": []
   },
   "outputs": [],
   "source": [
    "numbers.sort()"
   ]
  },
  {
   "cell_type": "code",
   "execution_count": 72,
   "id": "1184d70c-0465-4c07-8243-0dc47f5eebd5",
   "metadata": {
    "tags": []
   },
   "outputs": [
    {
     "data": {
      "text/plain": [
       "[5, 7, 8, 10, 12, 33, 56, 64, 98]"
      ]
     },
     "execution_count": 72,
     "metadata": {},
     "output_type": "execute_result"
    }
   ],
   "source": [
    "numbers"
   ]
  },
  {
   "cell_type": "code",
   "execution_count": 73,
   "id": "dd12d9d5-8327-4afa-b7d9-78bab180fcf9",
   "metadata": {
    "tags": []
   },
   "outputs": [],
   "source": [
    "numbers = [5, 7, 8, 33, 56, 12, 64, 98, 10]"
   ]
  },
  {
   "cell_type": "code",
   "execution_count": 74,
   "id": "cfd16a0a-99d4-430e-a964-904923134678",
   "metadata": {
    "tags": []
   },
   "outputs": [],
   "source": [
    "numbers.sort(reverse = True)"
   ]
  },
  {
   "cell_type": "code",
   "execution_count": 75,
   "id": "7478a375-76ac-4a8e-af50-65d13b8ab917",
   "metadata": {
    "tags": []
   },
   "outputs": [
    {
     "data": {
      "text/plain": [
       "[98, 64, 56, 33, 12, 10, 8, 7, 5]"
      ]
     },
     "execution_count": 75,
     "metadata": {},
     "output_type": "execute_result"
    }
   ],
   "source": [
    "numbers"
   ]
  },
  {
   "cell_type": "markdown",
   "id": "8eea71a9-087c-40cf-b937-59bd67b76a7d",
   "metadata": {},
   "source": [
    "# 4.4 Update an element"
   ]
  },
  {
   "cell_type": "code",
   "execution_count": 76,
   "id": "6aaab50a-ffbd-4441-9804-ce78ed77c45d",
   "metadata": {
    "tags": []
   },
   "outputs": [],
   "source": [
    "numbers[0] = 1000"
   ]
  },
  {
   "cell_type": "code",
   "execution_count": 77,
   "id": "d15899ba-8dc2-4f9d-8e0a-3f75e2747d4c",
   "metadata": {
    "tags": []
   },
   "outputs": [
    {
     "data": {
      "text/plain": [
       "[1000, 64, 56, 33, 12, 10, 8, 7, 5]"
      ]
     },
     "execution_count": 77,
     "metadata": {},
     "output_type": "execute_result"
    }
   ],
   "source": [
    "numbers"
   ]
  },
  {
   "cell_type": "markdown",
   "id": "a1fe073b-c7f4-4aa9-8689-b7bf4e8bdcfb",
   "metadata": {},
   "source": [
    "# 4.5 copying a list"
   ]
  },
  {
   "cell_type": "code",
   "execution_count": 78,
   "id": "ae5f5183-7e8c-40d8-bced-acc1cbf3086c",
   "metadata": {
    "tags": []
   },
   "outputs": [],
   "source": [
    "countries = [\"United States\", \"China\", \"India\", \"Brazil\"]"
   ]
  },
  {
   "cell_type": "code",
   "execution_count": 79,
   "id": "c1d1967c-9efe-4262-970d-ae1a5442d004",
   "metadata": {
    "tags": []
   },
   "outputs": [],
   "source": [
    "new_list_of_countries = countries[:]"
   ]
  },
  {
   "cell_type": "code",
   "execution_count": 80,
   "id": "ceeb0597-3119-41b7-9f58-b7bfabc7d24a",
   "metadata": {
    "tags": []
   },
   "outputs": [
    {
     "data": {
      "text/plain": [
       "['United States', 'China', 'India', 'Brazil']"
      ]
     },
     "execution_count": 80,
     "metadata": {},
     "output_type": "execute_result"
    }
   ],
   "source": [
    "new_list_of_countries"
   ]
  },
  {
   "cell_type": "code",
   "execution_count": 81,
   "id": "e5a3e9b6-8874-4fda-a463-943fb0402849",
   "metadata": {
    "tags": []
   },
   "outputs": [],
   "source": [
    "new_list_of_countries_2 = countries.copy() # Using the copy method"
   ]
  },
  {
   "cell_type": "code",
   "execution_count": 82,
   "id": "f519aaf0-b65c-4272-b054-673631fb1250",
   "metadata": {
    "tags": []
   },
   "outputs": [
    {
     "data": {
      "text/plain": [
       "['United States', 'China', 'India', 'Brazil']"
      ]
     },
     "execution_count": 82,
     "metadata": {},
     "output_type": "execute_result"
    }
   ],
   "source": [
    "new_list_of_countries_2"
   ]
  },
  {
   "cell_type": "markdown",
   "id": "b55c641f-bd6d-4c8b-b75b-dd064b095575",
   "metadata": {},
   "source": [
    "# 5. Dictionary"
   ]
  },
  {
   "cell_type": "code",
   "execution_count": 123,
   "id": "bf4298b0-dd9d-4ab0-9301-bdad8e9dbd3e",
   "metadata": {
    "tags": []
   },
   "outputs": [],
   "source": [
    "dict = {\"key1\" : \"value1\",\n",
    "        \"key2\" : \"value2\"\n",
    "       }"
   ]
  },
  {
   "cell_type": "code",
   "execution_count": 135,
   "id": "cd6e3016-ee6c-4a39-86f5-2992d3ddc878",
   "metadata": {
    "tags": []
   },
   "outputs": [],
   "source": [
    "my_data = {\"name\" : \"Majesty\",\n",
    "           \"age\" : 22\n",
    "          }"
   ]
  },
  {
   "cell_type": "code",
   "execution_count": 136,
   "id": "bd7985ec-2f62-441b-9e8d-5d6230c5f4ae",
   "metadata": {
    "tags": []
   },
   "outputs": [
    {
     "data": {
      "text/plain": [
       "{'name': 'Majesty', 'age': 22}"
      ]
     },
     "execution_count": 136,
     "metadata": {},
     "output_type": "execute_result"
    }
   ],
   "source": [
    "my_data"
   ]
  },
  {
   "cell_type": "code",
   "execution_count": 137,
   "id": "8fd656d1-e955-4fd7-b692-f9e210fc9ccb",
   "metadata": {
    "tags": []
   },
   "outputs": [
    {
     "data": {
      "text/plain": [
       "dict_keys(['name', 'age'])"
      ]
     },
     "execution_count": 137,
     "metadata": {},
     "output_type": "execute_result"
    }
   ],
   "source": [
    "my_data.keys() # using the keys methods"
   ]
  },
  {
   "cell_type": "code",
   "execution_count": 138,
   "id": "629b70ea-826b-4a15-aaea-b40dd580b1da",
   "metadata": {
    "tags": []
   },
   "outputs": [
    {
     "data": {
      "text/plain": [
       "dict_values(['Majesty', 22])"
      ]
     },
     "execution_count": 138,
     "metadata": {},
     "output_type": "execute_result"
    }
   ],
   "source": [
    "my_data.values() # using the values methods"
   ]
  },
  {
   "cell_type": "code",
   "execution_count": 139,
   "id": "0bc4aa81-3b66-4cd1-a9de-e834a5d06c7a",
   "metadata": {
    "tags": []
   },
   "outputs": [
    {
     "data": {
      "text/plain": [
       "dict_items([('name', 'Majesty'), ('age', 22)])"
      ]
     },
     "execution_count": 139,
     "metadata": {},
     "output_type": "execute_result"
    }
   ],
   "source": [
    "my_data.items() # using the items method. Results gives you a list of tuples"
   ]
  },
  {
   "cell_type": "code",
   "execution_count": 140,
   "id": "b576ab08-c0d9-4171-abc4-95f9a2c8aac3",
   "metadata": {
    "tags": []
   },
   "outputs": [],
   "source": [
    "# adding an item to the dictionary\n",
    "my_data[\"height\"] = 1.7"
   ]
  },
  {
   "cell_type": "code",
   "execution_count": 141,
   "id": "11c96798-746b-4ce4-8b6c-674b4170fe28",
   "metadata": {
    "tags": []
   },
   "outputs": [
    {
     "data": {
      "text/plain": [
       "{'name': 'Majesty', 'age': 22, 'height': 1.7}"
      ]
     },
     "execution_count": 141,
     "metadata": {},
     "output_type": "execute_result"
    }
   ],
   "source": [
    "my_data"
   ]
  },
  {
   "cell_type": "code",
   "execution_count": 142,
   "id": "b405cb85-1e85-4630-97e3-70ccaf5b70b3",
   "metadata": {
    "tags": []
   },
   "outputs": [],
   "source": [
    "# updating an itm in the dictionary\n",
    "my_data.update({\"height\" : 1.8})"
   ]
  },
  {
   "cell_type": "code",
   "execution_count": 143,
   "id": "8bf6f5b3-89a3-42ab-83e9-4ad22b75ed11",
   "metadata": {
    "tags": []
   },
   "outputs": [
    {
     "data": {
      "text/plain": [
       "{'name': 'Majesty', 'age': 22, 'height': 1.8}"
      ]
     },
     "execution_count": 143,
     "metadata": {},
     "output_type": "execute_result"
    }
   ],
   "source": [
    "my_data"
   ]
  },
  {
   "cell_type": "markdown",
   "id": "0baeee7e-f2dc-4329-9cc1-d0e9b2327e58",
   "metadata": {},
   "source": [
    "# 5.1 Copying a dcitionary"
   ]
  },
  {
   "cell_type": "code",
   "execution_count": 144,
   "id": "7169d1ab-7ef3-4159-badc-37b289dc4f4b",
   "metadata": {
    "tags": []
   },
   "outputs": [],
   "source": [
    "new_dict = my_data.copy()"
   ]
  },
  {
   "cell_type": "code",
   "execution_count": 145,
   "id": "4629b410-a069-4d01-932f-a573a0ae16bf",
   "metadata": {
    "tags": []
   },
   "outputs": [
    {
     "data": {
      "text/plain": [
       "{'name': 'Majesty', 'age': 22, 'height': 1.8}"
      ]
     },
     "execution_count": 145,
     "metadata": {},
     "output_type": "execute_result"
    }
   ],
   "source": [
    "new_dict"
   ]
  },
  {
   "cell_type": "code",
   "execution_count": 146,
   "id": "622b718a-3698-487a-be0a-941d45606fce",
   "metadata": {
    "tags": []
   },
   "outputs": [
    {
     "data": {
      "text/plain": [
       "{'name': 'Majesty', 'age': 22, 'height': 1.8}"
      ]
     },
     "execution_count": 146,
     "metadata": {},
     "output_type": "execute_result"
    }
   ],
   "source": [
    "my_data"
   ]
  },
  {
   "cell_type": "code",
   "execution_count": 147,
   "id": "f118ce86-cb54-4b67-99f0-bff6a13d59c4",
   "metadata": {
    "tags": []
   },
   "outputs": [],
   "source": [
    "# Note that changes made to the old dictionary (my_data) will not reflect in the new dictionary (new_dict)"
   ]
  },
  {
   "cell_type": "markdown",
   "id": "c0f814a0-bafe-4339-915c-61fa388b1286",
   "metadata": {},
   "source": [
    "# 5.2 Remove element "
   ]
  },
  {
   "cell_type": "code",
   "execution_count": 148,
   "id": "76d5245d-8016-4495-b9f1-3ae8e49c56c6",
   "metadata": {
    "tags": []
   },
   "outputs": [
    {
     "data": {
      "text/plain": [
       "'Majesty'"
      ]
     },
     "execution_count": 148,
     "metadata": {},
     "output_type": "execute_result"
    }
   ],
   "source": [
    "my_data.pop(\"name\")"
   ]
  },
  {
   "cell_type": "code",
   "execution_count": 149,
   "id": "bc5de007-e891-4354-99df-dca6c3702d7c",
   "metadata": {
    "tags": []
   },
   "outputs": [
    {
     "data": {
      "text/plain": [
       "{'age': 22, 'height': 1.8}"
      ]
     },
     "execution_count": 149,
     "metadata": {},
     "output_type": "execute_result"
    }
   ],
   "source": [
    "my_data"
   ]
  },
  {
   "cell_type": "code",
   "execution_count": 150,
   "id": "0903da3f-3d2c-4890-bf2b-b29cec188a8c",
   "metadata": {
    "tags": []
   },
   "outputs": [],
   "source": [
    "del my_data[\"age\"]"
   ]
  },
  {
   "cell_type": "code",
   "execution_count": 151,
   "id": "be57fc7b-6549-4243-b247-392e36e3f29b",
   "metadata": {
    "tags": []
   },
   "outputs": [
    {
     "data": {
      "text/plain": [
       "{'height': 1.8}"
      ]
     },
     "execution_count": 151,
     "metadata": {},
     "output_type": "execute_result"
    }
   ],
   "source": [
    "my_data"
   ]
  },
  {
   "cell_type": "code",
   "execution_count": 154,
   "id": "557e9b70-0594-4bbf-a61b-2ef65dd7d93b",
   "metadata": {
    "tags": []
   },
   "outputs": [],
   "source": [
    "my_data.clear() # You can remove all the elements in a dictionary using the clear method."
   ]
  },
  {
   "cell_type": "code",
   "execution_count": 155,
   "id": "3a63f424-b046-47be-b0ed-7f9e5ccc73ec",
   "metadata": {
    "tags": []
   },
   "outputs": [
    {
     "data": {
      "text/plain": [
       "{}"
      ]
     },
     "execution_count": 155,
     "metadata": {},
     "output_type": "execute_result"
    }
   ],
   "source": [
    "my_data"
   ]
  },
  {
   "cell_type": "markdown",
   "id": "5c004d1b-a62c-42bf-b284-7b9a0b1ec15a",
   "metadata": {},
   "source": [
    "# 6 If Statement"
   ]
  },
  {
   "cell_type": "code",
   "execution_count": 158,
   "id": "f3e32354-34c8-41f3-83f6-5e373daea587",
   "metadata": {
    "tags": []
   },
   "outputs": [],
   "source": [
    "if <condition>:\n",
    "    <code>\n",
    "elif <condition>:\n",
    "    <code>\n",
    "else:\n",
    "    <code>"
   ]
  },
  {
   "cell_type": "code",
   "execution_count": 163,
   "id": "b4df4dc0-aa4f-4db1-882c-baf0409315fe",
   "metadata": {
    "tags": []
   },
   "outputs": [
    {
     "name": "stdout",
     "output_type": "stream",
     "text": [
      "You are a teenager\n"
     ]
    }
   ],
   "source": [
    "age = 15\n",
    "\n",
    "if age >= 18:\n",
    "    print(\"You're an adult\")\n",
    "elif age >= 13:\n",
    "    print(\"You are a teenager\")\n",
    "else:\n",
    "    print(\"You are a kid\")"
   ]
  },
  {
   "cell_type": "markdown",
   "id": "f6bfe74d-3692-4713-94f1-73676b80c142",
   "metadata": {},
   "source": [
    "# 7 Loops"
   ]
  },
  {
   "cell_type": "code",
   "execution_count": 165,
   "id": "35ddb443-72e0-4ebb-9afa-c62524cc0bf3",
   "metadata": {
    "tags": []
   },
   "outputs": [],
   "source": [
    "for <variable> in <list>:\n",
    "    <code>"
   ]
  },
  {
   "cell_type": "code",
   "execution_count": 172,
   "id": "c6989e43-e910-4b77-b9b3-c1590510313e",
   "metadata": {
    "tags": []
   },
   "outputs": [
    {
     "data": {
      "text/plain": [
       "['United States', 'China', 'India', 'Brazil']"
      ]
     },
     "execution_count": 172,
     "metadata": {},
     "output_type": "execute_result"
    }
   ],
   "source": [
    "countries"
   ]
  },
  {
   "cell_type": "code",
   "execution_count": 173,
   "id": "da32afdb-22e6-4b7e-a742-070ee613c9f3",
   "metadata": {
    "tags": []
   },
   "outputs": [
    {
     "name": "stdout",
     "output_type": "stream",
     "text": [
      "United States\n",
      "China\n",
      "India\n",
      "Brazil\n"
     ]
    }
   ],
   "source": [
    "for country in countries:\n",
    "    print(country)"
   ]
  },
  {
   "cell_type": "code",
   "execution_count": 176,
   "id": "b0110f3c-a0d6-4b0a-97b9-e05cb2b9bdeb",
   "metadata": {
    "tags": []
   },
   "outputs": [
    {
     "name": "stdout",
     "output_type": "stream",
     "text": [
      "0 \n",
      " United States\n",
      "1 \n",
      " China\n",
      "2 \n",
      " India\n",
      "3 \n",
      " Brazil\n"
     ]
    }
   ],
   "source": [
    "for i, country in enumerate(countries):\n",
    "    print(f\"{i} \\n {country}\")"
   ]
  },
  {
   "cell_type": "code",
   "execution_count": 177,
   "id": "5a170415-821a-4d2e-8285-d21297c651b1",
   "metadata": {
    "tags": []
   },
   "outputs": [],
   "source": [
    "my_data = {\"name\" : \"Majesty\",\n",
    "           \"age\" : 22\n",
    "          }"
   ]
  },
  {
   "cell_type": "code",
   "execution_count": 178,
   "id": "2e6f6fd3-0ec3-4d07-ac53-08dda85e87c7",
   "metadata": {
    "tags": []
   },
   "outputs": [
    {
     "name": "stdout",
     "output_type": "stream",
     "text": [
      "name\n",
      "Majesty\n",
      "age\n",
      "22\n"
     ]
    }
   ],
   "source": [
    "for key, value in my_data.items():\n",
    "    print(key)\n",
    "    print(value)"
   ]
  },
  {
   "cell_type": "markdown",
   "id": "2bd47943-ccca-41ad-ae61-57e3ec9a24f0",
   "metadata": {},
   "source": [
    "# 8 Function"
   ]
  },
  {
   "cell_type": "code",
   "execution_count": 83,
   "id": "3a8632bb-b16a-4785-b9f2-cae52e5697e4",
   "metadata": {},
   "outputs": [],
   "source": [
    "def function (<param>):\n",
    "    <code>\n",
    "    return <data>"
   ]
  },
  {
   "cell_type": "code",
   "execution_count": 84,
   "id": "556f5fe7-d0c4-4b11-9e96-8b7dc2a3c9d2",
   "metadata": {
    "tags": []
   },
   "outputs": [],
   "source": [
    "def sum_values(a, b):\n",
    "    x = a + b\n",
    "    \n",
    "    return x"
   ]
  },
  {
   "cell_type": "code",
   "execution_count": 85,
   "id": "ae842a02-acd3-4223-b053-37bba11ee3fd",
   "metadata": {
    "tags": []
   },
   "outputs": [
    {
     "data": {
      "text/plain": [
       "30"
      ]
     },
     "execution_count": 85,
     "metadata": {},
     "output_type": "execute_result"
    }
   ],
   "source": [
    "sum_values(14, 16)"
   ]
  },
  {
   "cell_type": "markdown",
   "id": "32b6ac45-39fb-49fe-84d5-104e3af3a353",
   "metadata": {},
   "source": [
    "# 8.1 Built in functions"
   ]
  },
  {
   "cell_type": "code",
   "execution_count": 91,
   "id": "6cc1a7cc-ac47-490d-b3f6-886d2624c6f1",
   "metadata": {
    "tags": []
   },
   "outputs": [],
   "source": [
    "countries = [\"United States\", \"China\", \"India\", \"Brazil\"]"
   ]
  },
  {
   "cell_type": "code",
   "execution_count": 92,
   "id": "00931f21-5979-4cd5-936a-64af7e50a1ae",
   "metadata": {
    "tags": []
   },
   "outputs": [
    {
     "data": {
      "text/plain": [
       "4"
      ]
     },
     "execution_count": 92,
     "metadata": {},
     "output_type": "execute_result"
    }
   ],
   "source": [
    "len(countries) # returns the number of items in an iterable"
   ]
  },
  {
   "cell_type": "code",
   "execution_count": 93,
   "id": "7f39dcae-05a5-47c8-8a47-ff5d3bf1a8d9",
   "metadata": {
    "tags": []
   },
   "outputs": [
    {
     "data": {
      "text/plain": [
       "99"
      ]
     },
     "execution_count": 93,
     "metadata": {},
     "output_type": "execute_result"
    }
   ],
   "source": [
    "max([10, 63, 89, 1, 99, 25]) # returns the largest item in an iterable"
   ]
  },
  {
   "cell_type": "code",
   "execution_count": 94,
   "id": "1a7aa98f-4722-4e16-8a8e-a7d17a8ddd51",
   "metadata": {
    "tags": []
   },
   "outputs": [
    {
     "data": {
      "text/plain": [
       "1"
      ]
     },
     "execution_count": 94,
     "metadata": {},
     "output_type": "execute_result"
    }
   ],
   "source": [
    "min([10, 63, 89, 1, 99, 25]) # returns the smallest item in an iterable"
   ]
  },
  {
   "cell_type": "code",
   "execution_count": 95,
   "id": "c8e4f185-1c4b-4b80-bfd6-28705ce5f291",
   "metadata": {
    "tags": []
   },
   "outputs": [
    {
     "data": {
      "text/plain": [
       "list"
      ]
     },
     "execution_count": 95,
     "metadata": {},
     "output_type": "execute_result"
    }
   ],
   "source": [
    "type(countries)"
   ]
  },
  {
   "cell_type": "code",
   "execution_count": 97,
   "id": "c1308c69-cae0-481a-b35b-78461c691af0",
   "metadata": {
    "tags": []
   },
   "outputs": [
    {
     "data": {
      "text/plain": [
       "range(1, 10, 2)"
      ]
     },
     "execution_count": 97,
     "metadata": {},
     "output_type": "execute_result"
    }
   ],
   "source": [
    "range(1, 10, 2) # range(start, stop, increment)"
   ]
  },
  {
   "cell_type": "code",
   "execution_count": 99,
   "id": "e2f41390-f1a1-4480-8913-94c7afcdfd0d",
   "metadata": {
    "tags": []
   },
   "outputs": [
    {
     "name": "stdout",
     "output_type": "stream",
     "text": [
      "1\n",
      "3\n",
      "5\n",
      "7\n",
      "9\n",
      "11\n",
      "13\n",
      "15\n",
      "17\n",
      "19\n"
     ]
    }
   ],
   "source": [
    "for i in range(1, 20, 2):\n",
    "    print(i)"
   ]
  },
  {
   "cell_type": "markdown",
   "id": "d0dfc266-320a-4c4e-b5f8-d48936365883",
   "metadata": {},
   "source": [
    "# Module"
   ]
  },
  {
   "cell_type": "code",
   "execution_count": 100,
   "id": "73896397-d39c-4d7e-a2c3-c881d3fae0f5",
   "metadata": {
    "tags": []
   },
   "outputs": [],
   "source": [
    "# to have access to a module, you use the import keyword\n",
    "import"
   ]
  },
  {
   "cell_type": "markdown",
   "id": "a519c06d-b613-487e-8b04-311b1820811d",
   "metadata": {},
   "source": [
    "# OS Module"
   ]
  },
  {
   "cell_type": "code",
   "execution_count": 101,
   "id": "be97ff45-87f5-4621-8808-1552395806ca",
   "metadata": {
    "tags": []
   },
   "outputs": [],
   "source": [
    "import os"
   ]
  },
  {
   "cell_type": "code",
   "execution_count": 102,
   "id": "f9ae0cc5-c64d-4923-9806-10b72875e2bd",
   "metadata": {
    "tags": []
   },
   "outputs": [
    {
     "data": {
      "text/plain": [
       "'C:\\\\Users\\\\Elitebook\\\\Desktop\\\\Data Analysis with Python\\\\Data Analysis for Excel Users\\\\notebooks'"
      ]
     },
     "execution_count": 102,
     "metadata": {},
     "output_type": "execute_result"
    }
   ],
   "source": [
    "# get current working directory\n",
    "os.getcwd()"
   ]
  },
  {
   "cell_type": "code",
   "execution_count": 103,
   "id": "fc05a6ab-d486-4ad1-b065-76297e782475",
   "metadata": {
    "tags": []
   },
   "outputs": [
    {
     "data": {
      "text/plain": [
       "['.ipynb_checkpoints', 'example.ipynb']"
      ]
     },
     "execution_count": 103,
     "metadata": {},
     "output_type": "execute_result"
    }
   ],
   "source": [
    "os.listdir()"
   ]
  },
  {
   "cell_type": "code",
   "execution_count": 104,
   "id": "bc08320c-6846-4bbe-849a-6a0e91ff29b9",
   "metadata": {
    "tags": []
   },
   "outputs": [],
   "source": [
    "os.mkdir(\"New Folder\")"
   ]
  },
  {
   "cell_type": "code",
   "execution_count": 107,
   "id": "368c7c4a-412f-4244-9c9f-c6a1d9c455d4",
   "metadata": {
    "tags": []
   },
   "outputs": [
    {
     "data": {
      "text/plain": [
       "['.ipynb_checkpoints', 'example.ipynb']"
      ]
     },
     "execution_count": 107,
     "metadata": {},
     "output_type": "execute_result"
    }
   ],
   "source": [
    "os.listdir()"
   ]
  },
  {
   "cell_type": "code",
   "execution_count": null,
   "id": "d76b4ff2",
   "metadata": {},
   "outputs": [],
   "source": []
  }
 ],
 "metadata": {
  "kernelspec": {
   "display_name": "Python 3 (ipykernel)",
   "language": "python",
   "name": "python3"
  },
  "language_info": {
   "codemirror_mode": {
    "name": "ipython",
    "version": 3
   },
   "file_extension": ".py",
   "mimetype": "text/x-python",
   "name": "python",
   "nbconvert_exporter": "python",
   "pygments_lexer": "ipython3",
   "version": "3.11.5"
  }
 },
 "nbformat": 4,
 "nbformat_minor": 5
}
