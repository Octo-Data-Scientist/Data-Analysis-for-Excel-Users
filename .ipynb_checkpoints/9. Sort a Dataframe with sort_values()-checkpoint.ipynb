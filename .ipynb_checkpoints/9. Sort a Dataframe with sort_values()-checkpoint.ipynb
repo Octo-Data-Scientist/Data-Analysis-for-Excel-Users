{
 "cells": [
  {
   "cell_type": "code",
   "execution_count": null,
   "id": "823aa858-0a26-443a-beb6-65f000f8cdfe",
   "metadata": {},
   "outputs": [],
   "source": []
  }
 ],
 "metadata": {
  "kernelspec": {
   "display_name": "Python 3 (ipykernel)",
   "language": "python",
   "name": "python3"
  },
  "language_info": {
   "codemirror_mode": {
    "name": "ipython",
    "version": 3
   },
   "file_extension": ".py",
   "mimetype": "text/x-python",
   "name": "python",
   "nbconvert_exporter": "python",
   "pygments_lexer": "ipython3",
   "version": "3.11.5"
  }
 },
 "nbformat": 4,
 "nbformat_minor": 5
}
